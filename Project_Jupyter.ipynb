{
 "cells": [
  {
   "cell_type": "markdown",
   "id": "07e413d0-2399-4d6d-a9a4-abea7e4fef1b",
   "metadata": {},
   "source": [
    "The primary goal of this research was to investigate the language used in a novel using the tools provided by BeautifulSoup and NLTK. And most of all, getting to know the basic functions of the jupyter and trying them in practice.\n"
   ]
  },
  {
   "cell_type": "markdown",
   "id": "dde666e8-ef47-40f1-aeba-40d83a1c1220",
   "metadata": {},
   "source": [
    "# 1. Data collection "
   ]
  },
  {
   "cell_type": "markdown",
   "id": "4b8f1da7-a516-4d70-ad0d-be694ac91fe2",
   "metadata": {},
   "source": [
    "The book that was selected for this project is called *Through the Looking Glass* written by Lewis Carrol. For the purposes of the study, only chapter 6 of the book was used. It is titled *Humpty Dumpty*. The book is available online. "
   ]
  },
  {
   "cell_type": "code",
   "execution_count": 34,
   "id": "81bc26ee-01a5-4e47-9cf8-286f227af3a8",
   "metadata": {},
   "outputs": [],
   "source": [
    "import requests\n",
    "chapter = requests.get('https://www.alice-in-wonderland.net/resources/chapters-script/through-the-looking-glass/chapter-6/')\n",
    "\n"
   ]
  },
  {
   "cell_type": "markdown",
   "id": "57ac6f76-15b3-493c-88eb-2eb3282cf594",
   "metadata": {},
   "source": [
    "# 2. The actions carried out on the data"
   ]
  },
  {
   "cell_type": "markdown",
   "id": "ec971b0b-b95f-4943-83d4-aab129bec305",
   "metadata": {},
   "source": [
    "The data was then cleaned and prepared for further analysis. BeautifulSoup was first used to divide the text into paragraphs by utilizing the HTML parser included in the package. Furthermore, unnecessary new lines were removed. An example of such transformation on the first 8 paragraphs is shown below. "
   ]
  },
  {
   "cell_type": "code",
   "execution_count": 14,
   "id": "c6ce4236-a95f-47b9-8c6a-9cf762cd0429",
   "metadata": {},
   "outputs": [],
   "source": [
    "from bs4 import BeautifulSoup"
   ]
  },
  {
   "cell_type": "code",
   "execution_count": 15,
   "id": "950e4054-b59f-41f4-a519-940e41c2984b",
   "metadata": {},
   "outputs": [
    {
     "name": "stdout",
     "output_type": "stream",
     "text": [
      "[<p>It might have been written a hundred times, easily, on that enormous face. Humpty Dumpty was sitting with his legs crossed, like a Turk, on the top of a high wall—such a narrow one that Alice quite wondered how he could keep his balance—and, as his eyes were steadily fixed in the opposite direction, and he didn’t take the least notice of her, she thought he must be a stuffed figure after all.</p>, <p>‘And how exactly like an egg he is!’ she said aloud, standing with her hands ready to catch him, for she was every moment expecting him to fall.</p>, <p>‘It’s <i>very</i> provoking,’ Humpty Dumpty said after a long silence, looking away from Alice as he spoke, ‘to be called an egg—<i>Very!</i>’</p>, <p>‘I said you <i>looked</i> like an egg, Sir,’ Alice gently explained. ‘And some eggs are very pretty, you know’ she added, hoping to turn her remark into a sort of a compliment.</p>, <p>‘Some people,’ said Humpty Dumpty, looking away from her as usual, ‘have no more sense than a baby!’</p>, <p>Alice didn’t know what to say to this: it wasn’t at all like conversation, she thought, as he never said anything to <i>her</i>; in fact, his last remark was evidently addressed to a tree—so she stood and softly repeated to herself:—</p>, <p><em>‘Humpty Dumpty sat on a wall:</em><br/>\n",
      "<em>Humpty Dumpty had a great fall.</em><br/>\n",
      "<em>All the King’s horses and all the King’s men</em><br/>\n",
      "<em>Couldn’t put Humpty Dumpty in his place again.’</em></p>]\n"
     ]
    }
   ],
   "source": [
    "from bs4 import BeautifulSoup\n",
    "content = BeautifulSoup(chapter.content, 'html.parser')\n",
    "paragraphs = content.find_all('p')\n",
    "print(paragraphs[1:8])"
   ]
  },
  {
   "cell_type": "code",
   "execution_count": 26,
   "id": "dfe0e39a-1a9d-4549-b4b2-070bee584e46",
   "metadata": {},
   "outputs": [
    {
     "name": "stdout",
     "output_type": "stream",
     "text": [
      "['However, the egg only got larger and larger, and more and more human: when she had come within a few yards of it, she saw that it had eyes and a nose and mouth; and when she had come close to it, she saw clearly that it was HUMPTY DUMPTY himself. ‘It can’t be anybody else!’ she said to herself. ‘I’m as certain of it, as if his name were written all over his face.’', 'It might have been written a hundred times, easily, on that enormous face. Humpty Dumpty was sitting with his legs crossed, like a Turk, on the top of a high wall—such a narrow one that Alice quite wondered how he could keep his balance—and, as his eyes were steadily fixed in the opposite direction, and he didn’t take the least notice of her, she thought he must be a stuffed figure after all.', '‘And how exactly like an egg he is!’ she said aloud, standing with her hands ready to catch him, for she was every moment expecting him to fall.', '‘It’s\\xa0very\\xa0provoking,’ Humpty Dumpty said after a long silence, looking away from Alice as he spoke, ‘to be called an egg—Very!’', '‘I said you\\xa0looked\\xa0like an egg, Sir,’ Alice gently explained. ‘And some eggs are very pretty, you know’ she added, hoping to turn her remark into a sort of a compliment.', '‘Some people,’ said Humpty Dumpty, looking away from her as usual, ‘have no more sense than a baby!’', 'Alice didn’t know what to say to this: it wasn’t at all like conversation, she thought, as he never said anything to\\xa0her; in fact, his last remark was evidently addressed to a tree—so she stood and softly repeated to herself:—', '‘Humpty Dumpty sat on a wall:\\nHumpty Dumpty had a great fall.\\nAll the King’s horses and all the King’s men\\nCouldn’t put Humpty Dumpty in his place again.’']\n"
     ]
    }
   ],
   "source": [
    "text = []\n",
    "for item in paragraphs:\n",
    "    processed = item.get_text()\n",
    "    processed = processed.strip()\n",
    "    processed = processed.replace('\\r\\n',' ')\n",
    "    text.append(processed)\n",
    "print(text[0:8])"
   ]
  },
  {
   "cell_type": "markdown",
   "id": "647ab756-f766-4659-a10e-b855df5f7b0c",
   "metadata": {},
   "source": [
    "THen, using **nltk and the tuple structure**, I tidied up the sequence of values."
   ]
  },
  {
   "cell_type": "code",
   "execution_count": 3,
   "id": "d4e674af-8dba-457e-be54-eb836fbe46f6",
   "metadata": {},
   "outputs": [],
   "source": [
    "import nltk"
   ]
  },
  {
   "cell_type": "code",
   "execution_count": 19,
   "id": "723a775f-3a84-4ab2-8ae4-8c0eda70027e",
   "metadata": {},
   "outputs": [],
   "source": [
    "tuples = ['However the egg only got larger and larger and more and more human when she had come within a few yards of it she saw that it had eyes and a nose and mouth and when she had come close to it she saw clearly that it was HUMPTY DUMPTY himself It can not be anybody else she said to herself I’m as certain of it as if his name were written all over his face It might have been written a hundred times easily on that enormous face Humpty Dumpty was sitting with his legs crossed like a Turk on the top of a high wall such a narrow one that Alice quite wondered how he could keep his balanceand as his eyes were steadily fixed in the opposite direction and he did not take the least notice of her she thought he must be a stuffed figure after all And how exactly like an egg he is she said aloud standing with her hands ready to catch him for she was every moment expecting him to fall It is very ptovoking Humpty Dumpty said after a long silence looking away from Alice as he spoke to be called an egg Very I said you looked like an egg Sir Alice gently explained And some eggs are very pretty you know she added hoping to turn her remark into a sort of a compliment Some people said Humpty Dumpty looking away from her as usual have no more sense than a baby Alice did not know what to say to this it was not at all like conversation she thought as he never said anything toher in fact his last remark was evidently addressed to a tree so she stood and softly repeated to herself Humpty Dumpty sat on a wall umpty Dumpty had a great fall All the King horses and all the King men Could not put Humpty Dumpty in his place again']\n",
    "\n",
    "for sentence in only_text:\n",
    "    tokenized = nltk.word_tokenize(sentence)\n",
    "    tagged = nltk.pos_tag(tokenized)\n",
    "    for item in tagged:\n",
    "        tuples.append(item)\n"
   ]
  },
  {
   "cell_type": "code",
   "execution_count": 10,
   "id": "53d12803-d2ff-4abe-ad9c-ea8cd00cb51d",
   "metadata": {},
   "outputs": [
    {
     "name": "stdout",
     "output_type": "stream",
     "text": [
      "['However, the egg only got larger and larger, and more and more human: when she had come within a few yards of it, she saw that it had eyes and a nose and mouth; and when she had come close to it, she saw clearly that it was HUMPTY DUMPTY himself. ‘It can’t be anybody else!’ she said to herself. ‘I’m as certain of it, as if his name were written all over his face.’', 'It might have been written a hundred times, easily, on that enormous face. Humpty Dumpty was sitting with his legs crossed, like a Turk, on the top of a high wall—such a narrow one that Alice quite wondered how he could keep his balance—and, as his eyes were steadily fixed in the opposite direction, and he didn’t take the least notice of her, she thought he must be a stuffed figure after all.', '‘And how exactly like an egg he is!’ she said aloud, standing with her hands ready to catch him, for she was every moment expecting him to fall.', '‘It’s\\xa0very\\xa0provoking,’ Humpty Dumpty said after a long silence, looking away from Alice as he spoke, ‘to be called an egg—Very!’', '‘I said you\\xa0looked\\xa0like an egg, Sir,’ Alice gently explained. ‘And some eggs are very pretty, you know’ she added, hoping to turn her remark into a sort of a compliment.', '‘Some people,’ said Humpty Dumpty, looking away from her as usual, ‘have no more sense than a baby!’', 'Alice didn’t know what to say to this: it wasn’t at all like conversation, she thought, as he never said anything to\\xa0her; in fact, his last remark was evidently addressed to a tree—so she stood and softly repeated to herself:—', '‘Humpty Dumpty sat on a wall:\\nHumpty Dumpty had a great fall.\\nAll the King’s horses and all the King’s men\\nCouldn’t put Humpty Dumpty in his place again.’']\n"
     ]
    }
   ],
   "source": [
    "print(tuples)"
   ]
  },
  {
   "cell_type": "code",
   "execution_count": 33,
   "id": "c566f4fd-2b3f-4df9-8b8d-dffc2600860e",
   "metadata": {},
   "outputs": [
    {
     "name": "stdout",
     "output_type": "stream",
     "text": [
      "{'o': 1}\n"
     ]
    }
   ],
   "source": [
    "\n",
    "\n",
    "counter_dict = {}\n",
    "for item in tuples:\n",
    "    if item[1] not in counter_dict:\n",
    "        counter_dict[item[1]] = 1\n",
    "    else:\n",
    "        counter_dict[item[1]] += 1\n",
    "\n",
    "print(counter_dict)\n",
    "\n"
   ]
  },
  {
   "cell_type": "markdown",
   "id": "b3680b03-5426-44ee-b78d-44c582499af4",
   "metadata": {},
   "source": [
    "# 3. Summary"
   ]
  },
  {
   "cell_type": "markdown",
   "id": "667f3e32-0366-4ce3-b3f1-b31e582230ec",
   "metadata": {},
   "source": [
    "The project is very simple and does not contain any complicated functions as that was not his purpose. The aim of this project was to show a few functions and to become familiar with working in jupyter and trying some of its features. "
   ]
  },
  {
   "cell_type": "code",
   "execution_count": null,
   "id": "a19de394-d1b1-48d3-a01e-c0a0db504171",
   "metadata": {},
   "outputs": [],
   "source": []
  }
 ],
 "metadata": {
  "kernelspec": {
   "display_name": "Python 3 (ipykernel)",
   "language": "python",
   "name": "python3"
  },
  "language_info": {
   "codemirror_mode": {
    "name": "ipython",
    "version": 3
   },
   "file_extension": ".py",
   "mimetype": "text/x-python",
   "name": "python",
   "nbconvert_exporter": "python",
   "pygments_lexer": "ipython3",
   "version": "3.10.5"
  }
 },
 "nbformat": 4,
 "nbformat_minor": 5
}
